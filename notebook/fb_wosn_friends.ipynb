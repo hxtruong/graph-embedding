{
  "nbformat": 4,
  "nbformat_minor": 0,
  "metadata": {
    "colab": {
      "name": "fb-wosn-friends.ipynb",
      "provenance": []
    },
    "kernelspec": {
      "name": "python3",
      "display_name": "Python 3"
    }
  },
  "cells": [
    {
      "cell_type": "code",
      "metadata": {
        "id": "4og-QbrUKYIx",
        "colab_type": "code",
        "colab": {}
      },
      "source": [
        "import pandas as pd\n",
        "import numpy as np\n",
        "import networkx as nx\n",
        "import matplotlib.pyplot as plt\n",
        "import tensorflow as tf\n",
        "import requests\n",
        "import zipfile\n"
      ],
      "execution_count": 1,
      "outputs": []
    },
    {
      "cell_type": "code",
      "metadata": {
        "id": "YtFWFNoYKoVQ",
        "colab_type": "code",
        "colab": {}
      },
      "source": [
        "link_dts = 'http://nrvis.com/download/data/dynamic/fb-wosn-friends.zip'\n",
        "dts_zip = 'fb-wosn-friends.zip'\n",
        "dts_name = 'fb-wosn-friends.edges'"
      ],
      "execution_count": 2,
      "outputs": []
    },
    {
      "cell_type": "code",
      "metadata": {
        "id": "ed0ppwRIKvP8",
        "colab_type": "code",
        "colab": {
          "base_uri": "https://localhost:8080/",
          "height": 35
        },
        "outputId": "c40e8d06-4240-40f3-c92e-af18e632ae8f"
      },
      "source": [
        "r1 = requests.get(link_dts, allow_redirects=True)\n",
        "open(dts_zip, 'wb').write(r1.content)"
      ],
      "execution_count": 3,
      "outputs": [
        {
          "output_type": "execute_result",
          "data": {
            "text/plain": [
              "7481438"
            ]
          },
          "metadata": {
            "tags": []
          },
          "execution_count": 3
        }
      ]
    },
    {
      "cell_type": "code",
      "metadata": {
        "id": "o3w-pii8K9aV",
        "colab_type": "code",
        "colab": {}
      },
      "source": [
        "with zipfile.ZipFile(dts_zip, 'r') as zip_ref:\n",
        "    zip_ref.extractall()"
      ],
      "execution_count": 4,
      "outputs": []
    },
    {
      "cell_type": "code",
      "metadata": {
        "id": "FS5CRpoHLpZF",
        "colab_type": "code",
        "colab": {
          "base_uri": "https://localhost:8080/",
          "height": 516
        },
        "outputId": "a9d516b3-3eaf-46fb-f56c-d1239db98390"
      },
      "source": [
        "df = None\n",
        "with open(dts_name, 'r') as fi:\n",
        "    lines = fi.readlines() \n",
        "    print(lines[:6])\n",
        "    lines = lines[2:]\n",
        "    lines_ = [list(map(int, line.strip().split())) for line in lines ]\n",
        "    # print(lines_[:4])\n",
        "    df = pd.DataFrame(data=lines_, columns=['node_1', 'node_2', 'group', 'timestamp'])\n",
        "print(df.dtypes)\n",
        "df"
      ],
      "execution_count": 5,
      "outputs": [
        {
          "output_type": "stream",
          "text": [
            "['% sym unweighted\\n', '% 1269502 63731 63731\\n', '1 2 1 0\\n', '1 2 1 1202446730\\n', '1 3 1 0\\n', '1 4 1 0\\n']\n",
            "node_1       int64\n",
            "node_2       int64\n",
            "group        int64\n",
            "timestamp    int64\n",
            "dtype: object\n"
          ],
          "name": "stdout"
        },
        {
          "output_type": "execute_result",
          "data": {
            "text/html": [
              "<div>\n",
              "<style scoped>\n",
              "    .dataframe tbody tr th:only-of-type {\n",
              "        vertical-align: middle;\n",
              "    }\n",
              "\n",
              "    .dataframe tbody tr th {\n",
              "        vertical-align: top;\n",
              "    }\n",
              "\n",
              "    .dataframe thead th {\n",
              "        text-align: right;\n",
              "    }\n",
              "</style>\n",
              "<table border=\"1\" class=\"dataframe\">\n",
              "  <thead>\n",
              "    <tr style=\"text-align: right;\">\n",
              "      <th></th>\n",
              "      <th>node_1</th>\n",
              "      <th>node_2</th>\n",
              "      <th>group</th>\n",
              "      <th>timestamp</th>\n",
              "    </tr>\n",
              "  </thead>\n",
              "  <tbody>\n",
              "    <tr>\n",
              "      <th>0</th>\n",
              "      <td>1</td>\n",
              "      <td>2</td>\n",
              "      <td>1</td>\n",
              "      <td>0</td>\n",
              "    </tr>\n",
              "    <tr>\n",
              "      <th>1</th>\n",
              "      <td>1</td>\n",
              "      <td>2</td>\n",
              "      <td>1</td>\n",
              "      <td>1202446730</td>\n",
              "    </tr>\n",
              "    <tr>\n",
              "      <th>2</th>\n",
              "      <td>1</td>\n",
              "      <td>3</td>\n",
              "      <td>1</td>\n",
              "      <td>0</td>\n",
              "    </tr>\n",
              "    <tr>\n",
              "      <th>3</th>\n",
              "      <td>1</td>\n",
              "      <td>4</td>\n",
              "      <td>1</td>\n",
              "      <td>0</td>\n",
              "    </tr>\n",
              "    <tr>\n",
              "      <th>4</th>\n",
              "      <td>1</td>\n",
              "      <td>4</td>\n",
              "      <td>1</td>\n",
              "      <td>1213591678</td>\n",
              "    </tr>\n",
              "    <tr>\n",
              "      <th>...</th>\n",
              "      <td>...</td>\n",
              "      <td>...</td>\n",
              "      <td>...</td>\n",
              "      <td>...</td>\n",
              "    </tr>\n",
              "    <tr>\n",
              "      <th>1269497</th>\n",
              "      <td>63635</td>\n",
              "      <td>63636</td>\n",
              "      <td>1</td>\n",
              "      <td>0</td>\n",
              "    </tr>\n",
              "    <tr>\n",
              "      <th>1269498</th>\n",
              "      <td>63638</td>\n",
              "      <td>63639</td>\n",
              "      <td>1</td>\n",
              "      <td>1227190874</td>\n",
              "    </tr>\n",
              "    <tr>\n",
              "      <th>1269499</th>\n",
              "      <td>63646</td>\n",
              "      <td>63647</td>\n",
              "      <td>1</td>\n",
              "      <td>1226638427</td>\n",
              "    </tr>\n",
              "    <tr>\n",
              "      <th>1269500</th>\n",
              "      <td>63682</td>\n",
              "      <td>63683</td>\n",
              "      <td>1</td>\n",
              "      <td>1229633785</td>\n",
              "    </tr>\n",
              "    <tr>\n",
              "      <th>1269501</th>\n",
              "      <td>63697</td>\n",
              "      <td>63698</td>\n",
              "      <td>1</td>\n",
              "      <td>1226961880</td>\n",
              "    </tr>\n",
              "  </tbody>\n",
              "</table>\n",
              "<p>1269502 rows × 4 columns</p>\n",
              "</div>"
            ],
            "text/plain": [
              "         node_1  node_2  group   timestamp\n",
              "0             1       2      1           0\n",
              "1             1       2      1  1202446730\n",
              "2             1       3      1           0\n",
              "3             1       4      1           0\n",
              "4             1       4      1  1213591678\n",
              "...         ...     ...    ...         ...\n",
              "1269497   63635   63636      1           0\n",
              "1269498   63638   63639      1  1227190874\n",
              "1269499   63646   63647      1  1226638427\n",
              "1269500   63682   63683      1  1229633785\n",
              "1269501   63697   63698      1  1226961880\n",
              "\n",
              "[1269502 rows x 4 columns]"
            ]
          },
          "metadata": {
            "tags": []
          },
          "execution_count": 5
        }
      ]
    },
    {
      "cell_type": "code",
      "metadata": {
        "id": "fS0egw4fPxpW",
        "colab_type": "code",
        "colab": {
          "base_uri": "https://localhost:8080/",
          "height": 217
        },
        "outputId": "6512100e-310d-4a14-c51f-6c8c61707aaa"
      },
      "source": [
        "df.info()"
      ],
      "execution_count": 6,
      "outputs": [
        {
          "output_type": "stream",
          "text": [
            "<class 'pandas.core.frame.DataFrame'>\n",
            "RangeIndex: 1269502 entries, 0 to 1269501\n",
            "Data columns (total 4 columns):\n",
            " #   Column     Non-Null Count    Dtype\n",
            "---  ------     --------------    -----\n",
            " 0   node_1     1269502 non-null  int64\n",
            " 1   node_2     1269502 non-null  int64\n",
            " 2   group      1269502 non-null  int64\n",
            " 3   timestamp  1269502 non-null  int64\n",
            "dtypes: int64(4)\n",
            "memory usage: 38.7 MB\n"
          ],
          "name": "stdout"
        }
      ]
    },
    {
      "cell_type": "code",
      "metadata": {
        "id": "4CyCMv7HNJOR",
        "colab_type": "code",
        "colab": {
          "base_uri": "https://localhost:8080/",
          "height": 288
        },
        "outputId": "bea68bdf-262e-4ebc-e10b-3659e31272c3"
      },
      "source": [
        "df.describe()"
      ],
      "execution_count": 7,
      "outputs": [
        {
          "output_type": "execute_result",
          "data": {
            "text/html": [
              "<div>\n",
              "<style scoped>\n",
              "    .dataframe tbody tr th:only-of-type {\n",
              "        vertical-align: middle;\n",
              "    }\n",
              "\n",
              "    .dataframe tbody tr th {\n",
              "        vertical-align: top;\n",
              "    }\n",
              "\n",
              "    .dataframe thead th {\n",
              "        text-align: right;\n",
              "    }\n",
              "</style>\n",
              "<table border=\"1\" class=\"dataframe\">\n",
              "  <thead>\n",
              "    <tr style=\"text-align: right;\">\n",
              "      <th></th>\n",
              "      <th>node_1</th>\n",
              "      <th>node_2</th>\n",
              "      <th>group</th>\n",
              "      <th>timestamp</th>\n",
              "    </tr>\n",
              "  </thead>\n",
              "  <tbody>\n",
              "    <tr>\n",
              "      <th>count</th>\n",
              "      <td>1.269502e+06</td>\n",
              "      <td>1.269502e+06</td>\n",
              "      <td>1269502.0</td>\n",
              "      <td>1.269502e+06</td>\n",
              "    </tr>\n",
              "    <tr>\n",
              "      <th>mean</th>\n",
              "      <td>1.373282e+04</td>\n",
              "      <td>2.452442e+04</td>\n",
              "      <td>1.0</td>\n",
              "      <td>7.507266e+08</td>\n",
              "    </tr>\n",
              "    <tr>\n",
              "      <th>std</th>\n",
              "      <td>1.130070e+04</td>\n",
              "      <td>1.382842e+04</td>\n",
              "      <td>0.0</td>\n",
              "      <td>5.868974e+08</td>\n",
              "    </tr>\n",
              "    <tr>\n",
              "      <th>min</th>\n",
              "      <td>1.000000e+00</td>\n",
              "      <td>2.000000e+00</td>\n",
              "      <td>1.0</td>\n",
              "      <td>0.000000e+00</td>\n",
              "    </tr>\n",
              "    <tr>\n",
              "      <th>25%</th>\n",
              "      <td>4.743000e+03</td>\n",
              "      <td>1.342600e+04</td>\n",
              "      <td>1.0</td>\n",
              "      <td>0.000000e+00</td>\n",
              "    </tr>\n",
              "    <tr>\n",
              "      <th>50%</th>\n",
              "      <td>1.104100e+04</td>\n",
              "      <td>2.362600e+04</td>\n",
              "      <td>1.0</td>\n",
              "      <td>1.190734e+09</td>\n",
              "    </tr>\n",
              "    <tr>\n",
              "      <th>75%</th>\n",
              "      <td>2.024700e+04</td>\n",
              "      <td>3.440700e+04</td>\n",
              "      <td>1.0</td>\n",
              "      <td>1.219291e+09</td>\n",
              "    </tr>\n",
              "    <tr>\n",
              "      <th>max</th>\n",
              "      <td>6.369700e+04</td>\n",
              "      <td>6.373100e+04</td>\n",
              "      <td>1.0</td>\n",
              "      <td>1.232576e+09</td>\n",
              "    </tr>\n",
              "  </tbody>\n",
              "</table>\n",
              "</div>"
            ],
            "text/plain": [
              "             node_1        node_2      group     timestamp\n",
              "count  1.269502e+06  1.269502e+06  1269502.0  1.269502e+06\n",
              "mean   1.373282e+04  2.452442e+04        1.0  7.507266e+08\n",
              "std    1.130070e+04  1.382842e+04        0.0  5.868974e+08\n",
              "min    1.000000e+00  2.000000e+00        1.0  0.000000e+00\n",
              "25%    4.743000e+03  1.342600e+04        1.0  0.000000e+00\n",
              "50%    1.104100e+04  2.362600e+04        1.0  1.190734e+09\n",
              "75%    2.024700e+04  3.440700e+04        1.0  1.219291e+09\n",
              "max    6.369700e+04  6.373100e+04        1.0  1.232576e+09"
            ]
          },
          "metadata": {
            "tags": []
          },
          "execution_count": 7
        }
      ]
    },
    {
      "cell_type": "markdown",
      "metadata": {
        "id": "ba9rFO3VQtAY",
        "colab_type": "text"
      },
      "source": [
        "We will drop `group` column and which row has value `timestamp = 0`. We can not create a temporal network without getting time stamp"
      ]
    },
    {
      "cell_type": "code",
      "metadata": {
        "id": "X8pEsnP5PA8o",
        "colab_type": "code",
        "colab": {}
      },
      "source": [
        "df.drop(columns='group', inplace=True)"
      ],
      "execution_count": 8,
      "outputs": []
    },
    {
      "cell_type": "code",
      "metadata": {
        "id": "BghtEofSROlx",
        "colab_type": "code",
        "colab": {}
      },
      "source": [
        "df = df[df.timestamp != 0]"
      ],
      "execution_count": 9,
      "outputs": []
    },
    {
      "cell_type": "code",
      "metadata": {
        "id": "ev7kkMjLRW5Z",
        "colab_type": "code",
        "colab": {
          "base_uri": "https://localhost:8080/",
          "height": 288
        },
        "outputId": "3bcece95-ab6c-4668-cc47-17fdad50c993"
      },
      "source": [
        "df.describe()"
      ],
      "execution_count": 10,
      "outputs": [
        {
          "output_type": "execute_result",
          "data": {
            "text/html": [
              "<div>\n",
              "<style scoped>\n",
              "    .dataframe tbody tr th:only-of-type {\n",
              "        vertical-align: middle;\n",
              "    }\n",
              "\n",
              "    .dataframe tbody tr th {\n",
              "        vertical-align: top;\n",
              "    }\n",
              "\n",
              "    .dataframe thead th {\n",
              "        text-align: right;\n",
              "    }\n",
              "</style>\n",
              "<table border=\"1\" class=\"dataframe\">\n",
              "  <thead>\n",
              "    <tr style=\"text-align: right;\">\n",
              "      <th></th>\n",
              "      <th>node_1</th>\n",
              "      <th>node_2</th>\n",
              "      <th>timestamp</th>\n",
              "    </tr>\n",
              "  </thead>\n",
              "  <tbody>\n",
              "    <tr>\n",
              "      <th>count</th>\n",
              "      <td>788135.000000</td>\n",
              "      <td>788135.000000</td>\n",
              "      <td>7.881350e+05</td>\n",
              "    </tr>\n",
              "    <tr>\n",
              "      <th>mean</th>\n",
              "      <td>14852.727453</td>\n",
              "      <td>26157.100596</td>\n",
              "      <td>1.209246e+09</td>\n",
              "    </tr>\n",
              "    <tr>\n",
              "      <th>std</th>\n",
              "      <td>11659.727649</td>\n",
              "      <td>13860.316622</td>\n",
              "      <td>1.906903e+07</td>\n",
              "    </tr>\n",
              "    <tr>\n",
              "      <th>min</th>\n",
              "      <td>1.000000</td>\n",
              "      <td>2.000000</td>\n",
              "      <td>1.157455e+09</td>\n",
              "    </tr>\n",
              "    <tr>\n",
              "      <th>25%</th>\n",
              "      <td>5494.000000</td>\n",
              "      <td>15213.000000</td>\n",
              "      <td>1.196929e+09</td>\n",
              "    </tr>\n",
              "    <tr>\n",
              "      <th>50%</th>\n",
              "      <td>12017.000000</td>\n",
              "      <td>25490.000000</td>\n",
              "      <td>1.215498e+09</td>\n",
              "    </tr>\n",
              "    <tr>\n",
              "      <th>75%</th>\n",
              "      <td>21975.000000</td>\n",
              "      <td>35869.000000</td>\n",
              "      <td>1.224544e+09</td>\n",
              "    </tr>\n",
              "    <tr>\n",
              "      <th>max</th>\n",
              "      <td>63697.000000</td>\n",
              "      <td>63731.000000</td>\n",
              "      <td>1.232576e+09</td>\n",
              "    </tr>\n",
              "  </tbody>\n",
              "</table>\n",
              "</div>"
            ],
            "text/plain": [
              "              node_1         node_2     timestamp\n",
              "count  788135.000000  788135.000000  7.881350e+05\n",
              "mean    14852.727453   26157.100596  1.209246e+09\n",
              "std     11659.727649   13860.316622  1.906903e+07\n",
              "min         1.000000       2.000000  1.157455e+09\n",
              "25%      5494.000000   15213.000000  1.196929e+09\n",
              "50%     12017.000000   25490.000000  1.215498e+09\n",
              "75%     21975.000000   35869.000000  1.224544e+09\n",
              "max     63697.000000   63731.000000  1.232576e+09"
            ]
          },
          "metadata": {
            "tags": []
          },
          "execution_count": 10
        }
      ]
    },
    {
      "cell_type": "markdown",
      "metadata": {
        "id": "Bemv157ZWDx6",
        "colab_type": "text"
      },
      "source": [
        "# Creating dynamic graph\n",
        "Divide timestamp to `k` bin means `k` graph. Afterthat, we have 1 dynamic graph with `k` snapshot (static graph)"
      ]
    },
    {
      "cell_type": "code",
      "metadata": {
        "id": "tXaafQoVWDjD",
        "colab_type": "code",
        "colab": {}
      },
      "source": [
        "k = 10"
      ],
      "execution_count": 11,
      "outputs": []
    },
    {
      "cell_type": "code",
      "metadata": {
        "id": "bsr8WibPRYK-",
        "colab_type": "code",
        "colab": {
          "base_uri": "https://localhost:8080/",
          "height": 35
        },
        "outputId": "d89d4e9b-ff8b-4986-a51e-2fcdb666155e"
      },
      "source": [
        "timestamp_range = (df.timestamp.max() - df.timestamp.min() + 1)//k \n",
        "timestamp_range"
      ],
      "execution_count": 12,
      "outputs": [
        {
          "output_type": "execute_result",
          "data": {
            "text/plain": [
              "7512119"
            ]
          },
          "metadata": {
            "tags": []
          },
          "execution_count": 12
        }
      ]
    },
    {
      "cell_type": "code",
      "metadata": {
        "id": "pJsG0v7iXUA1",
        "colab_type": "code",
        "colab": {}
      },
      "source": [
        "graphs_df = []\n",
        "for i in range(k):\n",
        "    upper_time = df.timestamp.min() + timestamp_range*(i+1)\n",
        "    if i == k-1:\n",
        "        graph_df = df.copy()\n",
        "    else:\n",
        "        graph_df = df[df.timestamp<upper_time].copy()\n",
        "    graphs_df.append(graph_df)"
      ],
      "execution_count": 13,
      "outputs": []
    },
    {
      "cell_type": "code",
      "metadata": {
        "id": "51xrkionZbti",
        "colab_type": "code",
        "colab": {
          "base_uri": "https://localhost:8080/",
          "height": 1000
        },
        "outputId": "5a324ef5-a121-4268-8f39-32a8501a479d"
      },
      "source": [
        "graphs = []\n",
        "for i in range(k):\n",
        "    graphs.append(\n",
        "        nx.from_pandas_edgelist(graphs_df[i], \"node_1\", \"node_2\", create_using=nx.Graph())\n",
        "    )\n",
        "    print(f\"Graph {i+1}: \\n{nx.info(graphs[i])}\\n------\")"
      ],
      "execution_count": 22,
      "outputs": [
        {
          "output_type": "stream",
          "text": [
            "Graph 1: \n",
            "Name: \n",
            "Type: Graph\n",
            "Number of nodes: 7877\n",
            "Number of edges: 20071\n",
            "Average degree:   5.0961\n",
            "------\n",
            "Graph 2: \n",
            "Name: \n",
            "Type: Graph\n",
            "Number of nodes: 11210\n",
            "Number of edges: 42760\n",
            "Average degree:   7.6289\n",
            "------\n",
            "Graph 3: \n",
            "Name: \n",
            "Type: Graph\n",
            "Number of nodes: 14166\n",
            "Number of edges: 69473\n",
            "Average degree:   9.8084\n",
            "------\n",
            "Graph 4: \n",
            "Name: \n",
            "Type: Graph\n",
            "Number of nodes: 17770\n",
            "Number of edges: 105774\n",
            "Average degree:  11.9048\n",
            "------\n",
            "Graph 5: \n",
            "Name: \n",
            "Type: Graph\n",
            "Number of nodes: 22831\n",
            "Number of edges: 147697\n",
            "Average degree:  12.9383\n",
            "------\n",
            "Graph 6: \n",
            "Name: \n",
            "Type: Graph\n",
            "Number of nodes: 27582\n",
            "Number of edges: 182774\n",
            "Average degree:  13.2531\n",
            "------\n",
            "Graph 7: \n",
            "Name: \n",
            "Type: Graph\n",
            "Number of nodes: 33444\n",
            "Number of edges: 247713\n",
            "Average degree:  14.8136\n",
            "------\n",
            "Graph 8: \n",
            "Name: \n",
            "Type: Graph\n",
            "Number of nodes: 40925\n",
            "Number of edges: 343846\n",
            "Average degree:  16.8037\n",
            "------\n",
            "Graph 9: \n",
            "Name: \n",
            "Type: Graph\n",
            "Number of nodes: 50800\n",
            "Number of edges: 475434\n",
            "Average degree:  18.7179\n",
            "------\n",
            "Graph 10: \n",
            "Name: \n",
            "Type: Graph\n",
            "Number of nodes: 61096\n",
            "Number of edges: 614797\n",
            "Average degree:  20.1256\n",
            "------\n"
          ],
          "name": "stdout"
        }
      ]
    },
    {
      "cell_type": "code",
      "metadata": {
        "id": "562AvZTVc-u7",
        "colab_type": "code",
        "colab": {
          "base_uri": "https://localhost:8080/",
          "height": 774
        },
        "outputId": "212a73a6-f824-4f8b-9f45-5dbc1664d2d0"
      },
      "source": [
        "G = graphs[0].copy()\n",
        "\n",
        "print(nx.info(G))\n",
        "G.remove_nodes_from(list(G.nodes())[20:])\n",
        "\n",
        "nx.draw(G, pos=nx.spring_layout(G, seed=6))\n",
        "nx.draw_networkx_labels(G, pos=nx.spring_layout(G, seed=6))"
      ],
      "execution_count": 34,
      "outputs": [
        {
          "output_type": "stream",
          "text": [
            "Name: \n",
            "Type: Graph\n",
            "Number of nodes: 7877\n",
            "Number of edges: 20071\n",
            "Average degree:   5.0961\n"
          ],
          "name": "stdout"
        },
        {
          "output_type": "execute_result",
          "data": {
            "text/plain": [
              "{1: Text(0.09367523537420411, -0.9790300071228634, '1'),\n",
              " 9: Text(0.01560731327331469, -0.8413416963827907, '9'),\n",
              " 14: Text(-0.009507916728714885, 0.689756984358699, '14'),\n",
              " 165: Text(-0.1289591262863865, -0.8156538351007916, '165'),\n",
              " 1127: Text(-0.013160232606843422, -1.0, '1127'),\n",
              " 2175: Text(-0.1065847302915975, -0.9360341540668097, '2175'),\n",
              " 2280: Text(-0.10826855102417837, 0.5677119371577104, '2280'),\n",
              " 2398: Text(-0.09047702354762802, -0.7515411374455301, '2398'),\n",
              " 3703: Text(0.13700720486164603, 0.7592323824428038, '3703'),\n",
              " 4388: Text(0.1501216189159063, -0.7763694560258093, '4388'),\n",
              " 5055: Text(0.15069979450031187, 0.6609227413019153, '5055'),\n",
              " 5569: Text(0.04718545012670163, -0.7119482064229893, '5569'),\n",
              " 9231: Text(-0.024574264945453946, 0.8591357467902859, '9231'),\n",
              " 10814: Text(-0.002630128953081003, 0.5434157537114038, '10814'),\n",
              " 10884: Text(-0.12057767572256424, 0.806527744283284, '10884'),\n",
              " 11324: Text(-0.16628863300386434, 0.6635026489950884, '11324'),\n",
              " 11800: Text(0.07177109317539768, 0.8351274416478012, '11800'),\n",
              " 12316: Text(0.0978264418718036, 0.5767005898764829, '12316'),\n",
              " 12991: Text(-0.1541424859190422, 0.7380009037676789, '12991'),\n",
              " 15437: Text(0.1612766169300692, -0.8881163817655695, '15437')}"
            ]
          },
          "metadata": {
            "tags": []
          },
          "execution_count": 34
        },
        {
          "output_type": "display_data",
          "data": {
            "image/png": "[encoded data removed]",
            "text/plain": [
              "<Figure size 432x288 with 1 Axes>"
            ]
          },
          "metadata": {
            "tags": []
          }
        }
      ]
    },
    {
      "cell_type": "markdown",
      "metadata": {
        "id": "gGaEckOpi5gp",
        "colab_type": "text"
      },
      "source": [
        "# Save dynamic graph"
      ]
    },
    {
      "cell_type": "code",
      "metadata": {
        "id": "Bs5L_Nsfi48r",
        "colab_type": "code",
        "colab": {}
      },
      "source": [
        "for i in range(k):\n",
        "    nx.write_edgelist(G,f'graph{i}.edgelist',data=False)"
      ],
      "execution_count": 36,
      "outputs": []
    },
    {
      "cell_type": "code",
      "metadata": {
        "id": "gyc-IPzjjFHz",
        "colab_type": "code",
        "colab": {}
      },
      "source": [
        ""
      ],
      "execution_count": null,
      "outputs": []
    }
  ]
}